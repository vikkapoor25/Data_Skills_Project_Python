{
 "cells": [
  {
   "cell_type": "markdown",
   "metadata": {},
   "source": [
    "Python Data Skills Project - Introduction\n",
    "===================================\n",
    "### Overview\n",
    "\n",
    "This project was inspired by the Luke Barousse Tutorial on Python for Data Analytics. In my personal bid to leave Scrum Mastering and get back into Data Analytics, this project resonated with me on a personal level, allowing me to understand and navigate the data job market more effectively. This project delves into the top-paying and most in-demand skills to help find where I should focus my efforts when up-skilling, as well as to find the most optimal job opportunities for Data Analysts. One of the amendments that will be made from the original project is the breadth of exploration. Whilst the original project specifically focussed on Data Analyst jobs in the United States, this project will focus on the following: \n",
    "- Roles: \n",
    "  - Data Analyst\n",
    "  - Data Engineer\n",
    "  - Data Scientist\n",
    "- Countries: \n",
    "  - United Kingdom\n",
    "  - United States\n",
    "  - India\n",
    "\n",
    "### Goal\n",
    "\n",
    "1. Investigate the top-paying roles in the data industry\n",
    "2. Use Python to explore real-live datasets on job postings\n",
    "3. For job-seekers: use these insights to find the best job opportunities\n",
    "\n",
    "### Final Deliverables\n",
    "\n",
    "1. Create a Jupyter Notebook showcasing the core skills in Python\n",
    "2. Create a summary page (via README.md) capturing the findings \n",
    "3. Share this project via GitHub & LinkedIn\n",
    "\n",
    "### Questions to Answer\n",
    "\n",
    "1. **Skills_Demand**: Which skills have the highest likelihood of appearing (most in-demand) on a job posting?\n",
    "2. **Skills_Trend**: Which skills are most likely to appear on a job posting in any given month (trending)?\n",
    "3. **Salary_Analysis**: How well do jobs and skills pay?\n",
    "4. **Optimal_Skills**: What are the most optimal skills to learn (most in-demand and highest paying)?"
   ]
  }
 ],
 "metadata": {
  "language_info": {
   "name": "python"
  }
 },
 "nbformat": 4,
 "nbformat_minor": 2
}
